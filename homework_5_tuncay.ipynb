{
 "cells": [
  {
   "cell_type": "code",
   "execution_count": 1,
   "metadata": {},
   "outputs": [],
   "source": [
    "from selenium import webdriver\n",
    "import time\n",
    "import numpy as np\n",
    "import os\n",
    "from bs4 import BeautifulSoup\n",
    "import urllib.request"
   ]
  },
  {
   "cell_type": "markdown",
   "metadata": {},
   "source": [
    "# Question 1 ......................"
   ]
  },
  {
   "cell_type": "code",
   "execution_count": 2,
   "metadata": {},
   "outputs": [
    {
     "data": {
      "text/plain": [
       "'C:\\\\Users\\\\tuncay\\\\OneDrive\\\\PhD-CGU\\\\328-coding\\\\homeworks'"
      ]
     },
     "execution_count": 2,
     "metadata": {},
     "output_type": "execute_result"
    }
   ],
   "source": [
    "cwd=os.getcwd()\n",
    "cwd"
   ]
  },
  {
   "cell_type": "code",
   "execution_count": 3,
   "metadata": {},
   "outputs": [],
   "source": [
    "root_directory = 'C:\\\\Users\\\\tuncay\\\\OneDrive\\\\PhD-CGU\\\\328-coding\\\\homeworks\\\\'\n",
    "os.chdir(root_directory)\n",
    "browser=\"chrome\""
   ]
  },
  {
   "cell_type": "code",
   "execution_count": 4,
   "metadata": {},
   "outputs": [],
   "source": [
    "def start_driver_windows(root_directory,chrome):\n",
    "    if chrome:\n",
    "        browser = webdriver.Chrome(root_directory + '/chromedriver')\n",
    "    else:\n",
    "        browser = webdriver.Firefox(executable_path=root_directory + '/geckodriver')\n",
    "    return browser"
   ]
  },
  {
   "cell_type": "code",
   "execution_count": 5,
   "metadata": {},
   "outputs": [
    {
     "data": {
      "text/plain": [
       "<selenium.webdriver.chrome.webdriver.WebDriver (session=\"6f09ba48015ca7ce8341a921d0b89113\")>"
      ]
     },
     "execution_count": 5,
     "metadata": {},
     "output_type": "execute_result"
    }
   ],
   "source": [
    "# > a) Use the function above to launch a selenium browser\n",
    "k=start_driver_windows(root_directory,browser)\n",
    "k"
   ]
  },
  {
   "cell_type": "code",
   "execution_count": 6,
   "metadata": {},
   "outputs": [],
   "source": [
    "# > b) Use python to programatically navigate the browser to https://www.wiley.com/en-us/subjects\n",
    "k.get('https://www.wiley.com/en-us/subjects')"
   ]
  },
  {
   "cell_type": "code",
   "execution_count": 7,
   "metadata": {},
   "outputs": [],
   "source": [
    "time.sleep(np.random.uniform(1,0,1))\n",
    "# > c) Once on the page, use Python to click on the link for 'Business & Management'\n",
    "BM = k.find_elements_by_link_text('Business & Management') \n",
    "BM[0].click() "
   ]
  },
  {
   "cell_type": "code",
   "execution_count": 8,
   "metadata": {},
   "outputs": [],
   "source": [
    "time.sleep(np.random.uniform(1,0,1))\n",
    "# > d) On the 'Business & Management' page click on the 'VIEW ALL' link on the right hand side of the screen\n",
    "BM2 = k.find_elements_by_link_text('VIEW ALL')\n",
    "BM2[0].click() "
   ]
  },
  {
   "cell_type": "code",
   "execution_count": 9,
   "metadata": {},
   "outputs": [],
   "source": [
    "time.sleep(np.random.uniform(1,0,1))\n",
    "# > f) Use the dropdown menu next to 'Sort by' to select the option 'Best Seller'\n",
    "BM3 = k.find_element_by_id('sortOptions-button')\n",
    "BM4=BM3.send_keys(\"Best Seller\")\n",
    "BM4"
   ]
  },
  {
   "cell_type": "code",
   "execution_count": 10,
   "metadata": {},
   "outputs": [],
   "source": [
    "time.sleep(np.random.uniform(1,0,1))\n",
    "# > e) Extract the HTML from the webpage of the subject you clicked on and store it in a variable called html_data\n",
    "\n",
    "#url='https://www.wiley.com/en-us/products/Business-%26-Management-BA00?pq=%7CbestSeller%7CbestSeller%3Atrue'\n",
    "#k.get(\"https://www.wiley.com/en-us/products/Business-%26-Management-BA00?pq=%7CbestSeller%7CbestSeller%3Atrue\")\n",
    "\n",
    "with open(\"html_data\", \"w\") as p:\n",
    "    p.write(k.page_source)"
   ]
  },
  {
   "cell_type": "code",
   "execution_count": 11,
   "metadata": {},
   "outputs": [],
   "source": [
    "#Once you finish the problems close the selenium browser:\n",
    "k.close()"
   ]
  },
  {
   "cell_type": "markdown",
   "metadata": {},
   "source": [
    "# Question 2 ........................."
   ]
  },
  {
   "cell_type": "code",
   "execution_count": 12,
   "metadata": {
    "scrolled": true
   },
   "outputs": [
    {
     "data": {
      "text/plain": [
       "2"
      ]
     },
     "execution_count": 12,
     "metadata": {},
     "output_type": "execute_result"
    }
   ],
   "source": [
    "# a) Create a BeautifulSoup object using the HTML data you extracted in part d of Problem 1. \n",
    "a = open(\"html_data\").read()\n",
    "soup = BeautifulSoup(a)\n",
    "len(soup)\n"
   ]
  },
  {
   "cell_type": "code",
   "execution_count": 13,
   "metadata": {},
   "outputs": [
    {
     "data": {
      "text/plain": [
       "10"
      ]
     },
     "execution_count": 13,
     "metadata": {},
     "output_type": "execute_result"
    }
   ],
   "source": [
    "# b) Find all of the of the div tags of class product-content in the BeautifulSoup object\n",
    "\n",
    "soup2=soup.find_all('div', class_='product-content')\n",
    "len(soup2)\n",
    "\n",
    "# there are 10 books in the page"
   ]
  },
  {
   "cell_type": "code",
   "execution_count": 14,
   "metadata": {},
   "outputs": [
    {
     "name": "stdout",
     "output_type": "stream",
     "text": [
      "The Art of War: The Ancient ClassicSun Tzu, Tom Butler-Bowdon                                            \tE-Book Dec 2010                                                    $13.99    Added to Your Shopping CartAdd to cart                                            \tHardcoverJun 2010                                                    $20.00      Added to Your Shopping CartAdd to cart\n",
      "From Bud to Boss: Secrets to a Successful Transition to Remarkable LeadershipKevin Eikenberry, Guy Harris                                            \tE-Book Jan 2011                                                    $16.99    Added to Your Shopping CartAdd to cart                                            \tHardcoverFeb 2011                                                    $24.95      Added to Your Shopping CartAdd to cart\n",
      "George Washington's Leadership Lessons: What the Father of Our Country Can Teach Us About Effective Leadership and CharacterJames Rees, Stephen J. Spignesi                                            \tE-Book Jan 2011                                                    $14.99    Added to Your Shopping CartAdd to cart                                            \tHardcoverJan 2007                                                    $22.95      Added to Your Shopping CartAdd to cart\n",
      "Innovation and Entrepreneurship, 3rd EditionJohn R. Bessant, Joe Tidd                                            \tE-Book Aug 2015                                                    $71.50    Added to Your Shopping CartAdd to cart                                            \tPaperbackJun 2015                                                    $99.95      Added to Your Shopping CartAdd to cart\n",
      "Leadership For DummiesJohn Marrin                                            \tE-Book Mar 2011                                                    $12.99    Added to Your Shopping CartAdd to cart                                            \tPaperbackFeb 2012                                                    $19.99      Added to Your Shopping CartAdd to cart\n",
      "Extraordinary Leadership in Australia and New Zealand: The Five Practices that Create Great WorkplacesJames M. Kouzes, Barry Z. Posner, Michael Bunting                                            \tE-Book Dec 2014                                                    $18.99    Added to Your Shopping CartAdd to cart                                            \tPaperbackMay 2015                                                    $27.95      Added to Your Shopping CartAdd to cart\n",
      "Power Phone Scripts: 500 Word-for-Word Questions, Phrases, and Conversations to Open and Close More SalesMike Brooks                                            \tE-Book Jun 2017                                                    $18.99    Added to Your Shopping CartAdd to cart                                            \tHardcoverJun 2017                                                    $28.00      Added to Your Shopping CartAdd to cart\n",
      "The Employee Experience Advantage: How to Win the War for Talent by Giving Employees the Workspaces they Want, the Tools they Need, and a Culture They Can CelebrateJacob Morgan, Marshall Goldsmith                                            \tE-Book Mar 2017                                                    $16.99    Added to Your Shopping CartAdd to cart                                            \tHardcoverMar 2017                                                    $26.00      Added to Your Shopping CartAdd to cart\n",
      "Service Design for Business: A Practical Guide to Optimizing the Customer ExperienceBen Reason, Lavrans Løvlie, Melvin Brand Flu                                            \tE-Book Dec 2015                                                    $18.99    Added to Your Shopping CartAdd to cart                                            \tHardcoverDec 2015                                                    $28.00      Added to Your Shopping CartAdd to cart                                            \tO-Book Dec 2015                                                    View on Wiley Online Library\n",
      "Business Leadership: Management Fundamentals, Canadian EditionJohn R. Schermerhorn Jr., Barry Wright, Lorie Guest                                            \tWileyPLUS Product not available for purchase\n"
     ]
    }
   ],
   "source": [
    "# c) Extract all of the text of the div tags of class product-content \n",
    "#from part b and store the text in a list called product_content\n",
    "for product_content in soup2:\n",
    "    print (product_content.text.replace(\"\\n\",\"\"))"
   ]
  },
  {
   "cell_type": "code",
   "execution_count": null,
   "metadata": {},
   "outputs": [],
   "source": []
  },
  {
   "cell_type": "code",
   "execution_count": null,
   "metadata": {},
   "outputs": [],
   "source": []
  },
  {
   "cell_type": "code",
   "execution_count": null,
   "metadata": {},
   "outputs": [],
   "source": []
  },
  {
   "cell_type": "code",
   "execution_count": null,
   "metadata": {},
   "outputs": [],
   "source": []
  },
  {
   "cell_type": "code",
   "execution_count": null,
   "metadata": {},
   "outputs": [],
   "source": []
  },
  {
   "cell_type": "code",
   "execution_count": null,
   "metadata": {},
   "outputs": [],
   "source": []
  },
  {
   "cell_type": "code",
   "execution_count": null,
   "metadata": {},
   "outputs": [],
   "source": []
  },
  {
   "cell_type": "code",
   "execution_count": null,
   "metadata": {},
   "outputs": [],
   "source": []
  },
  {
   "cell_type": "code",
   "execution_count": null,
   "metadata": {},
   "outputs": [],
   "source": []
  },
  {
   "cell_type": "code",
   "execution_count": null,
   "metadata": {},
   "outputs": [],
   "source": []
  }
 ],
 "metadata": {
  "kernelspec": {
   "display_name": "Python 3",
   "language": "python",
   "name": "python3"
  },
  "language_info": {
   "codemirror_mode": {
    "name": "ipython",
    "version": 3
   },
   "file_extension": ".py",
   "mimetype": "text/x-python",
   "name": "python",
   "nbconvert_exporter": "python",
   "pygments_lexer": "ipython3",
   "version": "3.6.8"
  }
 },
 "nbformat": 4,
 "nbformat_minor": 2
}
