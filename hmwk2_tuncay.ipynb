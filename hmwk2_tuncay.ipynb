{
 "cells": [
  {
   "cell_type": "code",
   "execution_count": 1,
   "metadata": {},
   "outputs": [
    {
     "name": "stderr",
     "output_type": "stream",
     "text": [
      "Warning message:\n",
      "\"package 'numbers' was built under R version 3.6.1\""
     ]
    }
   ],
   "source": [
    "library(numbers)"
   ]
  },
  {
   "cell_type": "markdown",
   "metadata": {},
   "source": [
    "## Q1"
   ]
  },
  {
   "cell_type": "code",
   "execution_count": 2,
   "metadata": {},
   "outputs": [
    {
     "data": {
      "text/html": [
       "<ol class=list-inline>\n",
       "\t<li>1</li>\n",
       "\t<li>1</li>\n",
       "\t<li>2</li>\n",
       "\t<li>3</li>\n",
       "\t<li>5</li>\n",
       "\t<li>8</li>\n",
       "\t<li>13</li>\n",
       "\t<li>21</li>\n",
       "\t<li>34</li>\n",
       "\t<li>55</li>\n",
       "\t<li>89</li>\n",
       "\t<li>144</li>\n",
       "\t<li>233</li>\n",
       "\t<li>377</li>\n",
       "\t<li>610</li>\n",
       "\t<li>987</li>\n",
       "\t<li>1597</li>\n",
       "\t<li>2584</li>\n",
       "\t<li>4181</li>\n",
       "\t<li>6765</li>\n",
       "\t<li>10946</li>\n",
       "\t<li>17711</li>\n",
       "\t<li>28657</li>\n",
       "\t<li>46368</li>\n",
       "\t<li>75025</li>\n",
       "\t<li>121393</li>\n",
       "\t<li>196418</li>\n",
       "\t<li>317811</li>\n",
       "\t<li>514229</li>\n",
       "\t<li>832040</li>\n",
       "\t<li>1346269</li>\n",
       "\t<li>2178309</li>\n",
       "\t<li>3524578</li>\n",
       "\t<li>5702887</li>\n",
       "\t<li>9227465</li>\n",
       "\t<li>14930352</li>\n",
       "\t<li>24157817</li>\n",
       "\t<li>39088169</li>\n",
       "\t<li>63245986</li>\n",
       "\t<li>102334155</li>\n",
       "\t<li>165580141</li>\n",
       "\t<li>267914296</li>\n",
       "\t<li>433494437</li>\n",
       "\t<li>701408733</li>\n",
       "\t<li>1134903170</li>\n",
       "\t<li>1836311903</li>\n",
       "\t<li>2971215073</li>\n",
       "\t<li>4807526976</li>\n",
       "\t<li>7778742049</li>\n",
       "\t<li>12586269025</li>\n",
       "\t<li>20365011074</li>\n",
       "\t<li>32951280099</li>\n",
       "\t<li>53316291173</li>\n",
       "\t<li>86267571272</li>\n",
       "\t<li>139583862445</li>\n",
       "\t<li>225851433717</li>\n",
       "\t<li>365435296162</li>\n",
       "\t<li>591286729879</li>\n",
       "\t<li>956722026041</li>\n",
       "\t<li>1548008755920</li>\n",
       "\t<li>2504730781961</li>\n",
       "\t<li>4052739537881</li>\n",
       "\t<li>6557470319842</li>\n",
       "\t<li>10610209857723</li>\n",
       "\t<li>17167680177565</li>\n",
       "\t<li>27777890035288</li>\n",
       "\t<li>44945570212853</li>\n",
       "\t<li>72723460248141</li>\n",
       "\t<li>117669030460994</li>\n",
       "\t<li>190392490709135</li>\n",
       "\t<li>308061521170129</li>\n",
       "\t<li>498454011879264</li>\n",
       "\t<li>806515533049393</li>\n",
       "\t<li>1304969544928657</li>\n",
       "\t<li>2111485077978050</li>\n",
       "\t<li>3416454622906707</li>\n",
       "\t<li>5527939700884757</li>\n",
       "\t<li>8944394323791464</li>\n",
       "\t<li>14472334024676220</li>\n",
       "\t<li>23416728348467684</li>\n",
       "\t<li>37889062373143904</li>\n",
       "\t<li>61305790721611584</li>\n",
       "\t<li>99194853094755488</li>\n",
       "\t<li>160500643816367072</li>\n",
       "\t<li>259695496911122560</li>\n",
       "\t<li>420196140727489664</li>\n",
       "\t<li>679891637638612224</li>\n",
       "\t<li>1100087778366101888</li>\n",
       "\t<li>1779979416004713984</li>\n",
       "\t<li>2880067194370816000</li>\n",
       "\t<li>4660046610375530496</li>\n",
       "\t<li>7540113804746346496</li>\n",
       "\t<li>12200160415121876992</li>\n",
       "\t<li>19740274219868225536</li>\n",
       "\t<li>31940434634990100480</li>\n",
       "\t<li>51680708854858326016</li>\n",
       "\t<li>83621143489848426496</li>\n",
       "\t<li>1.35301852344707e+20</li>\n",
       "\t<li>2.18922995834555e+20</li>\n",
       "\t<li>3.54224848179262e+20</li>\n",
       "</ol>\n"
      ],
      "text/latex": [
       "\\begin{enumerate*}\n",
       "\\item 1\n",
       "\\item 1\n",
       "\\item 2\n",
       "\\item 3\n",
       "\\item 5\n",
       "\\item 8\n",
       "\\item 13\n",
       "\\item 21\n",
       "\\item 34\n",
       "\\item 55\n",
       "\\item 89\n",
       "\\item 144\n",
       "\\item 233\n",
       "\\item 377\n",
       "\\item 610\n",
       "\\item 987\n",
       "\\item 1597\n",
       "\\item 2584\n",
       "\\item 4181\n",
       "\\item 6765\n",
       "\\item 10946\n",
       "\\item 17711\n",
       "\\item 28657\n",
       "\\item 46368\n",
       "\\item 75025\n",
       "\\item 121393\n",
       "\\item 196418\n",
       "\\item 317811\n",
       "\\item 514229\n",
       "\\item 832040\n",
       "\\item 1346269\n",
       "\\item 2178309\n",
       "\\item 3524578\n",
       "\\item 5702887\n",
       "\\item 9227465\n",
       "\\item 14930352\n",
       "\\item 24157817\n",
       "\\item 39088169\n",
       "\\item 63245986\n",
       "\\item 102334155\n",
       "\\item 165580141\n",
       "\\item 267914296\n",
       "\\item 433494437\n",
       "\\item 701408733\n",
       "\\item 1134903170\n",
       "\\item 1836311903\n",
       "\\item 2971215073\n",
       "\\item 4807526976\n",
       "\\item 7778742049\n",
       "\\item 12586269025\n",
       "\\item 20365011074\n",
       "\\item 32951280099\n",
       "\\item 53316291173\n",
       "\\item 86267571272\n",
       "\\item 139583862445\n",
       "\\item 225851433717\n",
       "\\item 365435296162\n",
       "\\item 591286729879\n",
       "\\item 956722026041\n",
       "\\item 1548008755920\n",
       "\\item 2504730781961\n",
       "\\item 4052739537881\n",
       "\\item 6557470319842\n",
       "\\item 10610209857723\n",
       "\\item 17167680177565\n",
       "\\item 27777890035288\n",
       "\\item 44945570212853\n",
       "\\item 72723460248141\n",
       "\\item 117669030460994\n",
       "\\item 190392490709135\n",
       "\\item 308061521170129\n",
       "\\item 498454011879264\n",
       "\\item 806515533049393\n",
       "\\item 1304969544928657\n",
       "\\item 2111485077978050\n",
       "\\item 3416454622906707\n",
       "\\item 5527939700884757\n",
       "\\item 8944394323791464\n",
       "\\item 14472334024676220\n",
       "\\item 23416728348467684\n",
       "\\item 37889062373143904\n",
       "\\item 61305790721611584\n",
       "\\item 99194853094755488\n",
       "\\item 160500643816367072\n",
       "\\item 259695496911122560\n",
       "\\item 420196140727489664\n",
       "\\item 679891637638612224\n",
       "\\item 1100087778366101888\n",
       "\\item 1779979416004713984\n",
       "\\item 2880067194370816000\n",
       "\\item 4660046610375530496\n",
       "\\item 7540113804746346496\n",
       "\\item 12200160415121876992\n",
       "\\item 19740274219868225536\n",
       "\\item 31940434634990100480\n",
       "\\item 51680708854858326016\n",
       "\\item 83621143489848426496\n",
       "\\item 1.35301852344707e+20\n",
       "\\item 2.18922995834555e+20\n",
       "\\item 3.54224848179262e+20\n",
       "\\end{enumerate*}\n"
      ],
      "text/markdown": [
       "1. 1\n",
       "2. 1\n",
       "3. 2\n",
       "4. 3\n",
       "5. 5\n",
       "6. 8\n",
       "7. 13\n",
       "8. 21\n",
       "9. 34\n",
       "10. 55\n",
       "11. 89\n",
       "12. 144\n",
       "13. 233\n",
       "14. 377\n",
       "15. 610\n",
       "16. 987\n",
       "17. 1597\n",
       "18. 2584\n",
       "19. 4181\n",
       "20. 6765\n",
       "21. 10946\n",
       "22. 17711\n",
       "23. 28657\n",
       "24. 46368\n",
       "25. 75025\n",
       "26. 121393\n",
       "27. 196418\n",
       "28. 317811\n",
       "29. 514229\n",
       "30. 832040\n",
       "31. 1346269\n",
       "32. 2178309\n",
       "33. 3524578\n",
       "34. 5702887\n",
       "35. 9227465\n",
       "36. 14930352\n",
       "37. 24157817\n",
       "38. 39088169\n",
       "39. 63245986\n",
       "40. 102334155\n",
       "41. 165580141\n",
       "42. 267914296\n",
       "43. 433494437\n",
       "44. 701408733\n",
       "45. 1134903170\n",
       "46. 1836311903\n",
       "47. 2971215073\n",
       "48. 4807526976\n",
       "49. 7778742049\n",
       "50. 12586269025\n",
       "51. 20365011074\n",
       "52. 32951280099\n",
       "53. 53316291173\n",
       "54. 86267571272\n",
       "55. 139583862445\n",
       "56. 225851433717\n",
       "57. 365435296162\n",
       "58. 591286729879\n",
       "59. 956722026041\n",
       "60. 1548008755920\n",
       "61. 2504730781961\n",
       "62. 4052739537881\n",
       "63. 6557470319842\n",
       "64. 10610209857723\n",
       "65. 17167680177565\n",
       "66. 27777890035288\n",
       "67. 44945570212853\n",
       "68. 72723460248141\n",
       "69. 117669030460994\n",
       "70. 190392490709135\n",
       "71. 308061521170129\n",
       "72. 498454011879264\n",
       "73. 806515533049393\n",
       "74. 1304969544928657\n",
       "75. 2111485077978050\n",
       "76. 3416454622906707\n",
       "77. 5527939700884757\n",
       "78. 8944394323791464\n",
       "79. 14472334024676220\n",
       "80. 23416728348467684\n",
       "81. 37889062373143904\n",
       "82. 61305790721611584\n",
       "83. 99194853094755488\n",
       "84. 160500643816367072\n",
       "85. 259695496911122560\n",
       "86. 420196140727489664\n",
       "87. 679891637638612224\n",
       "88. 1100087778366101888\n",
       "89. 1779979416004713984\n",
       "90. 2880067194370816000\n",
       "91. 4660046610375530496\n",
       "92. 7540113804746346496\n",
       "93. 12200160415121876992\n",
       "94. 19740274219868225536\n",
       "95. 31940434634990100480\n",
       "96. 51680708854858326016\n",
       "97. 83621143489848426496\n",
       "98. 1.35301852344707e+20\n",
       "99. 2.18922995834555e+20\n",
       "100. 3.54224848179262e+20\n",
       "\n",
       "\n"
      ],
      "text/plain": [
       "  [1] 1.000000e+00 1.000000e+00 2.000000e+00 3.000000e+00 5.000000e+00\n",
       "  [6] 8.000000e+00 1.300000e+01 2.100000e+01 3.400000e+01 5.500000e+01\n",
       " [11] 8.900000e+01 1.440000e+02 2.330000e+02 3.770000e+02 6.100000e+02\n",
       " [16] 9.870000e+02 1.597000e+03 2.584000e+03 4.181000e+03 6.765000e+03\n",
       " [21] 1.094600e+04 1.771100e+04 2.865700e+04 4.636800e+04 7.502500e+04\n",
       " [26] 1.213930e+05 1.964180e+05 3.178110e+05 5.142290e+05 8.320400e+05\n",
       " [31] 1.346269e+06 2.178309e+06 3.524578e+06 5.702887e+06 9.227465e+06\n",
       " [36] 1.493035e+07 2.415782e+07 3.908817e+07 6.324599e+07 1.023342e+08\n",
       " [41] 1.655801e+08 2.679143e+08 4.334944e+08 7.014087e+08 1.134903e+09\n",
       " [46] 1.836312e+09 2.971215e+09 4.807527e+09 7.778742e+09 1.258627e+10\n",
       " [51] 2.036501e+10 3.295128e+10 5.331629e+10 8.626757e+10 1.395839e+11\n",
       " [56] 2.258514e+11 3.654353e+11 5.912867e+11 9.567220e+11 1.548009e+12\n",
       " [61] 2.504731e+12 4.052740e+12 6.557470e+12 1.061021e+13 1.716768e+13\n",
       " [66] 2.777789e+13 4.494557e+13 7.272346e+13 1.176690e+14 1.903925e+14\n",
       " [71] 3.080615e+14 4.984540e+14 8.065155e+14 1.304970e+15 2.111485e+15\n",
       " [76] 3.416455e+15 5.527940e+15 8.944394e+15 1.447233e+16 2.341673e+16\n",
       " [81] 3.788906e+16 6.130579e+16 9.919485e+16 1.605006e+17 2.596955e+17\n",
       " [86] 4.201961e+17 6.798916e+17 1.100088e+18 1.779979e+18 2.880067e+18\n",
       " [91] 4.660047e+18 7.540114e+18 1.220016e+19 1.974027e+19 3.194043e+19\n",
       " [96] 5.168071e+19 8.362114e+19 1.353019e+20 2.189230e+20 3.542248e+20"
      ]
     },
     "metadata": {},
     "output_type": "display_data"
    }
   ],
   "source": [
    "n <- 100\n",
    "fib <- numeric(n)\n",
    "fib[1] <- 1\n",
    "fib[2] <- 1\n",
    "\n",
    "for (i in (3:n)){\n",
    "    fib[i]  <-  fib[i-1]+fib[i-2]\n",
    "}\n",
    "fib"
   ]
  },
  {
   "cell_type": "code",
   "execution_count": 3,
   "metadata": {},
   "outputs": [
    {
     "data": {
      "text/html": [
       "<ol class=list-inline>\n",
       "\t<li>1</li>\n",
       "\t<li>1</li>\n",
       "\t<li>2</li>\n",
       "\t<li>3</li>\n",
       "\t<li>5</li>\n",
       "\t<li>8</li>\n",
       "\t<li>13</li>\n",
       "\t<li>21</li>\n",
       "\t<li>34</li>\n",
       "\t<li>55</li>\n",
       "\t<li>89</li>\n",
       "\t<li>144</li>\n",
       "\t<li>233</li>\n",
       "\t<li>377</li>\n",
       "\t<li>610</li>\n",
       "\t<li>987</li>\n",
       "\t<li>1597</li>\n",
       "\t<li>2584</li>\n",
       "\t<li>4181</li>\n",
       "\t<li>6765</li>\n",
       "\t<li>10946</li>\n",
       "\t<li>17711</li>\n",
       "\t<li>28657</li>\n",
       "\t<li>46368</li>\n",
       "\t<li>75025</li>\n",
       "\t<li>121393</li>\n",
       "\t<li>196418</li>\n",
       "\t<li>317811</li>\n",
       "\t<li>514229</li>\n",
       "\t<li>832040</li>\n",
       "\t<li>1346269</li>\n",
       "\t<li>2178309</li>\n",
       "\t<li>3524578</li>\n",
       "\t<li>5702887</li>\n",
       "\t<li>9227465</li>\n",
       "\t<li>14930352</li>\n",
       "\t<li>24157817</li>\n",
       "\t<li>39088169</li>\n",
       "\t<li>63245986</li>\n",
       "\t<li>102334155</li>\n",
       "\t<li>165580141</li>\n",
       "\t<li>267914296</li>\n",
       "\t<li>433494437</li>\n",
       "\t<li>701408733</li>\n",
       "\t<li>1134903170</li>\n",
       "\t<li>1836311903</li>\n",
       "\t<li>2971215073</li>\n",
       "\t<li>4807526976</li>\n",
       "\t<li>7778742049</li>\n",
       "\t<li>12586269025</li>\n",
       "</ol>\n"
      ],
      "text/latex": [
       "\\begin{enumerate*}\n",
       "\\item 1\n",
       "\\item 1\n",
       "\\item 2\n",
       "\\item 3\n",
       "\\item 5\n",
       "\\item 8\n",
       "\\item 13\n",
       "\\item 21\n",
       "\\item 34\n",
       "\\item 55\n",
       "\\item 89\n",
       "\\item 144\n",
       "\\item 233\n",
       "\\item 377\n",
       "\\item 610\n",
       "\\item 987\n",
       "\\item 1597\n",
       "\\item 2584\n",
       "\\item 4181\n",
       "\\item 6765\n",
       "\\item 10946\n",
       "\\item 17711\n",
       "\\item 28657\n",
       "\\item 46368\n",
       "\\item 75025\n",
       "\\item 121393\n",
       "\\item 196418\n",
       "\\item 317811\n",
       "\\item 514229\n",
       "\\item 832040\n",
       "\\item 1346269\n",
       "\\item 2178309\n",
       "\\item 3524578\n",
       "\\item 5702887\n",
       "\\item 9227465\n",
       "\\item 14930352\n",
       "\\item 24157817\n",
       "\\item 39088169\n",
       "\\item 63245986\n",
       "\\item 102334155\n",
       "\\item 165580141\n",
       "\\item 267914296\n",
       "\\item 433494437\n",
       "\\item 701408733\n",
       "\\item 1134903170\n",
       "\\item 1836311903\n",
       "\\item 2971215073\n",
       "\\item 4807526976\n",
       "\\item 7778742049\n",
       "\\item 12586269025\n",
       "\\end{enumerate*}\n"
      ],
      "text/markdown": [
       "1. 1\n",
       "2. 1\n",
       "3. 2\n",
       "4. 3\n",
       "5. 5\n",
       "6. 8\n",
       "7. 13\n",
       "8. 21\n",
       "9. 34\n",
       "10. 55\n",
       "11. 89\n",
       "12. 144\n",
       "13. 233\n",
       "14. 377\n",
       "15. 610\n",
       "16. 987\n",
       "17. 1597\n",
       "18. 2584\n",
       "19. 4181\n",
       "20. 6765\n",
       "21. 10946\n",
       "22. 17711\n",
       "23. 28657\n",
       "24. 46368\n",
       "25. 75025\n",
       "26. 121393\n",
       "27. 196418\n",
       "28. 317811\n",
       "29. 514229\n",
       "30. 832040\n",
       "31. 1346269\n",
       "32. 2178309\n",
       "33. 3524578\n",
       "34. 5702887\n",
       "35. 9227465\n",
       "36. 14930352\n",
       "37. 24157817\n",
       "38. 39088169\n",
       "39. 63245986\n",
       "40. 102334155\n",
       "41. 165580141\n",
       "42. 267914296\n",
       "43. 433494437\n",
       "44. 701408733\n",
       "45. 1134903170\n",
       "46. 1836311903\n",
       "47. 2971215073\n",
       "48. 4807526976\n",
       "49. 7778742049\n",
       "50. 12586269025\n",
       "\n",
       "\n"
      ],
      "text/plain": [
       " [1]           1           1           2           3           5           8\n",
       " [7]          13          21          34          55          89         144\n",
       "[13]         233         377         610         987        1597        2584\n",
       "[19]        4181        6765       10946       17711       28657       46368\n",
       "[25]       75025      121393      196418      317811      514229      832040\n",
       "[31]     1346269     2178309     3524578     5702887     9227465    14930352\n",
       "[37]    24157817    39088169    63245986   102334155   165580141   267914296\n",
       "[43]   433494437   701408733  1134903170  1836311903  2971215073  4807526976\n",
       "[49]  7778742049 12586269025"
      ]
     },
     "metadata": {},
     "output_type": "display_data"
    }
   ],
   "source": [
    "fib2 <- fibonacci(50,sequence = TRUE) # numbers library\n",
    "fib2"
   ]
  },
  {
   "cell_type": "code",
   "execution_count": 4,
   "metadata": {},
   "outputs": [
    {
     "data": {
      "text/html": [
       "4613732"
      ],
      "text/latex": [
       "4613732"
      ],
      "text/markdown": [
       "4613732"
      ],
      "text/plain": [
       "[1] 4613732"
      ]
     },
     "metadata": {},
     "output_type": "display_data"
    }
   ],
   "source": [
    "evens <- fib2[which(fib2<=4e6 & fib2%%2 == 0)]\n",
    "sum(evens)"
   ]
  },
  {
   "cell_type": "markdown",
   "metadata": {},
   "source": [
    "## Q2"
   ]
  },
  {
   "cell_type": "code",
   "execution_count": 5,
   "metadata": {},
   "outputs": [
    {
     "data": {
      "text/html": [
       "<table>\n",
       "<caption>A matrix: 5 × 20 of type int</caption>\n",
       "<tbody>\n",
       "\t<tr><td>1</td><td> 6</td><td>11</td><td>16</td><td>21</td><td>26</td><td>31</td><td>36</td><td>41</td><td>46</td><td>51</td><td>56</td><td>61</td><td>66</td><td>71</td><td>76</td><td>81</td><td>86</td><td>91</td><td> 96</td></tr>\n",
       "\t<tr><td>2</td><td> 7</td><td>12</td><td>17</td><td>22</td><td>27</td><td>32</td><td>37</td><td>42</td><td>47</td><td>52</td><td>57</td><td>62</td><td>67</td><td>72</td><td>77</td><td>82</td><td>87</td><td>92</td><td> 97</td></tr>\n",
       "\t<tr><td>3</td><td> 8</td><td>13</td><td>18</td><td>23</td><td>28</td><td>33</td><td>38</td><td>43</td><td>48</td><td>53</td><td>58</td><td>63</td><td>68</td><td>73</td><td>78</td><td>83</td><td>88</td><td>93</td><td> 98</td></tr>\n",
       "\t<tr><td>4</td><td> 9</td><td>14</td><td>19</td><td>24</td><td>29</td><td>34</td><td>39</td><td>44</td><td>49</td><td>54</td><td>59</td><td>64</td><td>69</td><td>74</td><td>79</td><td>84</td><td>89</td><td>94</td><td> 99</td></tr>\n",
       "\t<tr><td>5</td><td>10</td><td>15</td><td>20</td><td>25</td><td>30</td><td>35</td><td>40</td><td>45</td><td>50</td><td>55</td><td>60</td><td>65</td><td>70</td><td>75</td><td>80</td><td>85</td><td>90</td><td>95</td><td>100</td></tr>\n",
       "</tbody>\n",
       "</table>\n"
      ],
      "text/latex": [
       "A matrix: 5 × 20 of type int\n",
       "\\begin{tabular}{llllllllllllllllllll}\n",
       "\t 1 &  6 & 11 & 16 & 21 & 26 & 31 & 36 & 41 & 46 & 51 & 56 & 61 & 66 & 71 & 76 & 81 & 86 & 91 &  96\\\\\n",
       "\t 2 &  7 & 12 & 17 & 22 & 27 & 32 & 37 & 42 & 47 & 52 & 57 & 62 & 67 & 72 & 77 & 82 & 87 & 92 &  97\\\\\n",
       "\t 3 &  8 & 13 & 18 & 23 & 28 & 33 & 38 & 43 & 48 & 53 & 58 & 63 & 68 & 73 & 78 & 83 & 88 & 93 &  98\\\\\n",
       "\t 4 &  9 & 14 & 19 & 24 & 29 & 34 & 39 & 44 & 49 & 54 & 59 & 64 & 69 & 74 & 79 & 84 & 89 & 94 &  99\\\\\n",
       "\t 5 & 10 & 15 & 20 & 25 & 30 & 35 & 40 & 45 & 50 & 55 & 60 & 65 & 70 & 75 & 80 & 85 & 90 & 95 & 100\\\\\n",
       "\\end{tabular}\n"
      ],
      "text/markdown": [
       "\n",
       "A matrix: 5 × 20 of type int\n",
       "\n",
       "| 1 |  6 | 11 | 16 | 21 | 26 | 31 | 36 | 41 | 46 | 51 | 56 | 61 | 66 | 71 | 76 | 81 | 86 | 91 |  96 |\n",
       "| 2 |  7 | 12 | 17 | 22 | 27 | 32 | 37 | 42 | 47 | 52 | 57 | 62 | 67 | 72 | 77 | 82 | 87 | 92 |  97 |\n",
       "| 3 |  8 | 13 | 18 | 23 | 28 | 33 | 38 | 43 | 48 | 53 | 58 | 63 | 68 | 73 | 78 | 83 | 88 | 93 |  98 |\n",
       "| 4 |  9 | 14 | 19 | 24 | 29 | 34 | 39 | 44 | 49 | 54 | 59 | 64 | 69 | 74 | 79 | 84 | 89 | 94 |  99 |\n",
       "| 5 | 10 | 15 | 20 | 25 | 30 | 35 | 40 | 45 | 50 | 55 | 60 | 65 | 70 | 75 | 80 | 85 | 90 | 95 | 100 |\n",
       "\n"
      ],
      "text/plain": [
       "     [,1] [,2] [,3] [,4] [,5] [,6] [,7] [,8] [,9] [,10] [,11] [,12] [,13] [,14]\n",
       "[1,] 1     6   11   16   21   26   31   36   41   46    51    56    61    66   \n",
       "[2,] 2     7   12   17   22   27   32   37   42   47    52    57    62    67   \n",
       "[3,] 3     8   13   18   23   28   33   38   43   48    53    58    63    68   \n",
       "[4,] 4     9   14   19   24   29   34   39   44   49    54    59    64    69   \n",
       "[5,] 5    10   15   20   25   30   35   40   45   50    55    60    65    70   \n",
       "     [,15] [,16] [,17] [,18] [,19] [,20]\n",
       "[1,] 71    76    81    86    91     96  \n",
       "[2,] 72    77    82    87    92     97  \n",
       "[3,] 73    78    83    88    93     98  \n",
       "[4,] 74    79    84    89    94     99  \n",
       "[5,] 75    80    85    90    95    100  "
      ]
     },
     "metadata": {},
     "output_type": "display_data"
    },
    {
     "data": {
      "text/html": [
       "<ol class=list-inline>\n",
       "\t<li>1</li>\n",
       "\t<li>2</li>\n",
       "\t<li>3</li>\n",
       "\t<li>4</li>\n",
       "\t<li>5</li>\n",
       "</ol>\n"
      ],
      "text/latex": [
       "\\begin{enumerate*}\n",
       "\\item 1\n",
       "\\item 2\n",
       "\\item 3\n",
       "\\item 4\n",
       "\\item 5\n",
       "\\end{enumerate*}\n"
      ],
      "text/markdown": [
       "1. 1\n",
       "2. 2\n",
       "3. 3\n",
       "4. 4\n",
       "5. 5\n",
       "\n",
       "\n"
      ],
      "text/plain": [
       "[1] 1 2 3 4 5"
      ]
     },
     "metadata": {},
     "output_type": "display_data"
    },
    {
     "data": {
      "text/html": [
       "<table>\n",
       "<caption>A matrix: 1 × 20 of type dbl</caption>\n",
       "<tbody>\n",
       "\t<tr><td>55</td><td>130</td><td>205</td><td>280</td><td>355</td><td>430</td><td>505</td><td>580</td><td>655</td><td>730</td><td>805</td><td>880</td><td>955</td><td>1030</td><td>1105</td><td>1180</td><td>1255</td><td>1330</td><td>1405</td><td>1480</td></tr>\n",
       "</tbody>\n",
       "</table>\n"
      ],
      "text/latex": [
       "A matrix: 1 × 20 of type dbl\n",
       "\\begin{tabular}{llllllllllllllllllll}\n",
       "\t 55 & 130 & 205 & 280 & 355 & 430 & 505 & 580 & 655 & 730 & 805 & 880 & 955 & 1030 & 1105 & 1180 & 1255 & 1330 & 1405 & 1480\\\\\n",
       "\\end{tabular}\n"
      ],
      "text/markdown": [
       "\n",
       "A matrix: 1 × 20 of type dbl\n",
       "\n",
       "| 55 | 130 | 205 | 280 | 355 | 430 | 505 | 580 | 655 | 730 | 805 | 880 | 955 | 1030 | 1105 | 1180 | 1255 | 1330 | 1405 | 1480 |\n",
       "\n"
      ],
      "text/plain": [
       "     [,1] [,2] [,3] [,4] [,5] [,6] [,7] [,8] [,9] [,10] [,11] [,12] [,13] [,14]\n",
       "[1,] 55   130  205  280  355  430  505  580  655  730   805   880   955   1030 \n",
       "     [,15] [,16] [,17] [,18] [,19] [,20]\n",
       "[1,] 1105  1180  1255  1330  1405  1480 "
      ]
     },
     "metadata": {},
     "output_type": "display_data"
    }
   ],
   "source": [
    "matriks <- matrix(1:100,5)\n",
    "vektor <- array(1:length(matriks[,1]))\n",
    "matriks\n",
    "vektor\n",
    "\n",
    "vektor %*% matriks"
   ]
  },
  {
   "cell_type": "markdown",
   "metadata": {},
   "source": [
    "## Q3"
   ]
  },
  {
   "cell_type": "code",
   "execution_count": 6,
   "metadata": {},
   "outputs": [
    {
     "data": {
      "text/html": [
       "32.5"
      ],
      "text/latex": [
       "32.5"
      ],
      "text/markdown": [
       "32.5"
      ],
      "text/plain": [
       "[1] 32.5"
      ]
     },
     "metadata": {},
     "output_type": "display_data"
    },
    {
     "data": {
      "text/html": [
       "32.5"
      ],
      "text/latex": [
       "32.5"
      ],
      "text/markdown": [
       "32.5"
      ],
      "text/plain": [
       "[1] 32.5"
      ]
     },
     "metadata": {},
     "output_type": "display_data"
    }
   ],
   "source": [
    "v  <- c(4,6,55,87,3,91,675,4,13,24,53,47,86,56,77,66)\n",
    "mad(v)/1.4826\n",
    "median(abs(v-median(v)))"
   ]
  },
  {
   "cell_type": "code",
   "execution_count": 7,
   "metadata": {},
   "outputs": [
    {
     "data": {
      "text/html": [
       "3"
      ],
      "text/latex": [
       "3"
      ],
      "text/markdown": [
       "3"
      ],
      "text/plain": [
       "[1] 3"
      ]
     },
     "metadata": {},
     "output_type": "display_data"
    },
    {
     "data": {
      "text/html": [
       "3"
      ],
      "text/latex": [
       "3"
      ],
      "text/markdown": [
       "3"
      ],
      "text/plain": [
       "[1] 3"
      ]
     },
     "metadata": {},
     "output_type": "display_data"
    },
    {
     "data": {
      "text/html": [
       "3"
      ],
      "text/latex": [
       "3"
      ],
      "text/markdown": [
       "3"
      ],
      "text/plain": [
       "[1] 3"
      ]
     },
     "metadata": {},
     "output_type": "display_data"
    }
   ],
   "source": [
    "k <- c(1,2,3,4,5,6,7,8,95,6,3,44,55,67)\n",
    "mad_ <- function(v){\n",
    "    return(median(abs(v-median(v))))\n",
    "}\n",
    "\n",
    "mad_(k)\n",
    "mad(k)/1.4826\n",
    "median(abs(k-median(k)))"
   ]
  },
  {
   "cell_type": "markdown",
   "metadata": {},
   "source": [
    "## Q4"
   ]
  },
  {
   "cell_type": "code",
   "execution_count": 8,
   "metadata": {},
   "outputs": [
    {
     "data": {
      "text/html": [
       "'John@gmail.com; Andrew@gmail.com; Thomas@gmail.com'"
      ],
      "text/latex": [
       "'John@gmail.com; Andrew@gmail.com; Thomas@gmail.com'"
      ],
      "text/markdown": [
       "'John@gmail.com; Andrew@gmail.com; Thomas@gmail.com'"
      ],
      "text/plain": [
       "[1] \"John@gmail.com; Andrew@gmail.com; Thomas@gmail.com\""
      ]
     },
     "metadata": {},
     "output_type": "display_data"
    }
   ],
   "source": [
    "Names <- \"John Andrew Thomas\"\n",
    "paste(strsplit(Names,split = \" \")[[1]],\"@gmail.com\",sep = \"\",collapse = \"; \")"
   ]
  },
  {
   "cell_type": "markdown",
   "metadata": {},
   "source": [
    "## Q5"
   ]
  },
  {
   "cell_type": "code",
   "execution_count": 9,
   "metadata": {},
   "outputs": [
    {
     "data": {
      "text/html": [
       "<ol class=list-inline>\n",
       "\t<li>'aa'</li>\n",
       "\t<li>'ab'</li>\n",
       "\t<li>'ac'</li>\n",
       "\t<li>'ad'</li>\n",
       "\t<li>'ae'</li>\n",
       "\t<li>'ba'</li>\n",
       "\t<li>'bb'</li>\n",
       "\t<li>'bc'</li>\n",
       "\t<li>'bd'</li>\n",
       "\t<li>'be'</li>\n",
       "\t<li>'ca'</li>\n",
       "\t<li>'cb'</li>\n",
       "\t<li>'cc'</li>\n",
       "\t<li>'cd'</li>\n",
       "\t<li>'ce'</li>\n",
       "\t<li>'da'</li>\n",
       "\t<li>'db'</li>\n",
       "\t<li>'dc'</li>\n",
       "\t<li>'dd'</li>\n",
       "\t<li>'de'</li>\n",
       "\t<li>'ea'</li>\n",
       "\t<li>'eb'</li>\n",
       "\t<li>'ec'</li>\n",
       "\t<li>'ed'</li>\n",
       "\t<li>'ee'</li>\n",
       "</ol>\n"
      ],
      "text/latex": [
       "\\begin{enumerate*}\n",
       "\\item 'aa'\n",
       "\\item 'ab'\n",
       "\\item 'ac'\n",
       "\\item 'ad'\n",
       "\\item 'ae'\n",
       "\\item 'ba'\n",
       "\\item 'bb'\n",
       "\\item 'bc'\n",
       "\\item 'bd'\n",
       "\\item 'be'\n",
       "\\item 'ca'\n",
       "\\item 'cb'\n",
       "\\item 'cc'\n",
       "\\item 'cd'\n",
       "\\item 'ce'\n",
       "\\item 'da'\n",
       "\\item 'db'\n",
       "\\item 'dc'\n",
       "\\item 'dd'\n",
       "\\item 'de'\n",
       "\\item 'ea'\n",
       "\\item 'eb'\n",
       "\\item 'ec'\n",
       "\\item 'ed'\n",
       "\\item 'ee'\n",
       "\\end{enumerate*}\n"
      ],
      "text/markdown": [
       "1. 'aa'\n",
       "2. 'ab'\n",
       "3. 'ac'\n",
       "4. 'ad'\n",
       "5. 'ae'\n",
       "6. 'ba'\n",
       "7. 'bb'\n",
       "8. 'bc'\n",
       "9. 'bd'\n",
       "10. 'be'\n",
       "11. 'ca'\n",
       "12. 'cb'\n",
       "13. 'cc'\n",
       "14. 'cd'\n",
       "15. 'ce'\n",
       "16. 'da'\n",
       "17. 'db'\n",
       "18. 'dc'\n",
       "19. 'dd'\n",
       "20. 'de'\n",
       "21. 'ea'\n",
       "22. 'eb'\n",
       "23. 'ec'\n",
       "24. 'ed'\n",
       "25. 'ee'\n",
       "\n",
       "\n"
      ],
      "text/plain": [
       " [1] \"aa\" \"ab\" \"ac\" \"ad\" \"ae\" \"ba\" \"bb\" \"bc\" \"bd\" \"be\" \"ca\" \"cb\" \"cc\" \"cd\" \"ce\"\n",
       "[16] \"da\" \"db\" \"dc\" \"dd\" \"de\" \"ea\" \"eb\" \"ec\" \"ed\" \"ee\""
      ]
     },
     "metadata": {},
     "output_type": "display_data"
    }
   ],
   "source": [
    "paste0((rep(letters[1:5],rep(5,5))),letters[1:5])"
   ]
  },
  {
   "cell_type": "markdown",
   "metadata": {},
   "source": [
    "## Q6"
   ]
  },
  {
   "cell_type": "code",
   "execution_count": 10,
   "metadata": {},
   "outputs": [
    {
     "name": "stdout",
     "output_type": "stream",
     "text": [
      "Enter first word: hey\n",
      "Enter second word: yoo\n",
      "equal length"
     ]
    }
   ],
   "source": [
    "word1 = as.character(readline(prompt=\"Enter first word: \"))\n",
    "word2 = as.character(readline(prompt=\"Enter second word: \"))\n",
    "\n",
    "compare=function(compare){\n",
    "    if (nchar(word1)==nchar(word2)){\n",
    "        cat(\"equal length\")\n",
    "    }\n",
    "    else {\n",
    "        cat(\"not equal length\")\n",
    "    }\n",
    "    \n",
    "}\n",
    "compare(compare)"
   ]
  },
  {
   "cell_type": "code",
   "execution_count": 11,
   "metadata": {},
   "outputs": [
    {
     "name": "stdout",
     "output_type": "stream",
     "text": [
      "Enter first word: hey\n",
      "Enter second word: yooooo\n",
      "not equal length"
     ]
    }
   ],
   "source": [
    "word1 = as.character(readline(prompt=\"Enter first word: \"))\n",
    "word2 = as.character(readline(prompt=\"Enter second word: \"))\n",
    "\n",
    "compare=function(compare){\n",
    "    if (nchar(word1)==nchar(word2)){\n",
    "        cat(\"equal length\")\n",
    "    }\n",
    "    else {\n",
    "        cat(\"not equal length\")\n",
    "    }\n",
    "    \n",
    "}\n",
    "compare(compare)"
   ]
  },
  {
   "cell_type": "code",
   "execution_count": null,
   "metadata": {},
   "outputs": [],
   "source": []
  },
  {
   "cell_type": "code",
   "execution_count": null,
   "metadata": {},
   "outputs": [],
   "source": []
  },
  {
   "cell_type": "code",
   "execution_count": null,
   "metadata": {},
   "outputs": [],
   "source": []
  },
  {
   "cell_type": "code",
   "execution_count": null,
   "metadata": {},
   "outputs": [],
   "source": []
  }
 ],
 "metadata": {
  "kernelspec": {
   "display_name": "R",
   "language": "R",
   "name": "ir"
  },
  "language_info": {
   "codemirror_mode": "r",
   "file_extension": ".r",
   "mimetype": "text/x-r-source",
   "name": "R",
   "pygments_lexer": "r",
   "version": "3.6.0"
  },
  "toc": {
   "base_numbering": 1,
   "nav_menu": {},
   "number_sections": false,
   "sideBar": true,
   "skip_h1_title": false,
   "title_cell": "Table of Contents",
   "title_sidebar": "Contents",
   "toc_cell": false,
   "toc_position": {},
   "toc_section_display": true,
   "toc_window_display": true
  },
  "varInspector": {
   "cols": {
    "lenName": 16,
    "lenType": 16,
    "lenVar": 40
   },
   "kernels_config": {
    "python": {
     "delete_cmd_postfix": "",
     "delete_cmd_prefix": "del ",
     "library": "var_list.py",
     "varRefreshCmd": "print(var_dic_list())"
    },
    "r": {
     "delete_cmd_postfix": ") ",
     "delete_cmd_prefix": "rm(",
     "library": "var_list.r",
     "varRefreshCmd": "cat(var_dic_list()) "
    }
   },
   "types_to_exclude": [
    "module",
    "function",
    "builtin_function_or_method",
    "instance",
    "_Feature"
   ],
   "window_display": false
  }
 },
 "nbformat": 4,
 "nbformat_minor": 2
}
